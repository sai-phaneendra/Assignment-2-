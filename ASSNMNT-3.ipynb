{
 "cells": [
  {
   "cell_type": "markdown",
   "metadata": {},
   "source": [
    "# Write a Python program to remove duplicates from a list\n"
   ]
  },
  {
   "cell_type": "code",
   "execution_count": 4,
   "metadata": {},
   "outputs": [],
   "source": [
    "c=['ramesh', 'suresh', 'ramesh', 'mahesh']"
   ]
  },
  {
   "cell_type": "code",
   "execution_count": 5,
   "metadata": {},
   "outputs": [
    {
     "data": {
      "text/plain": [
       "{'mahesh', 'ramesh', 'suresh'}"
      ]
     },
     "execution_count": 5,
     "metadata": {},
     "output_type": "execute_result"
    }
   ],
   "source": [
    "set(c)"
   ]
  },
  {
   "cell_type": "code",
   "execution_count": 6,
   "metadata": {},
   "outputs": [
    {
     "data": {
      "text/plain": [
       "['ramesh', 'suresh', 'mahesh']"
      ]
     },
     "execution_count": 6,
     "metadata": {},
     "output_type": "execute_result"
    }
   ],
   "source": [
    "list(set(c))"
   ]
  },
  {
   "cell_type": "markdown",
   "metadata": {},
   "source": [
    "# Write a Python program to get the difference between the two lists"
   ]
  },
  {
   "cell_type": "code",
   "execution_count": 7,
   "metadata": {},
   "outputs": [],
   "source": [
    "l1=[19,17,25,46,32]\n",
    "l2=[14, 19, 32]"
   ]
  },
  {
   "cell_type": "code",
   "execution_count": 9,
   "metadata": {},
   "outputs": [],
   "source": [
    "def Diffval(l1,l2):\n",
    "    return(list(set(l1)-set(l2)))"
   ]
  },
  {
   "cell_type": "code",
   "execution_count": 11,
   "metadata": {},
   "outputs": [
    {
     "name": "stdout",
     "output_type": "stream",
     "text": [
      "[17, 46, 25]\n"
     ]
    }
   ],
   "source": [
    "finalval = Diffval(l1,l2)\n",
    "print(finalval)"
   ]
  },
  {
   "cell_type": "markdown",
   "metadata": {},
   "source": [
    "# Write a Python program to get the frequency of the elements in a list"
   ]
  },
  {
   "cell_type": "code",
   "execution_count": 22,
   "metadata": {},
   "outputs": [
    {
     "name": "stdout",
     "output_type": "stream",
     "text": [
      "1 3\n",
      "2 2\n",
      "3 2\n",
      "4 3\n",
      "5 2\n",
      "7 2\n",
      "8 2\n"
     ]
    }
   ],
   "source": [
    "arr=[1,2,3,4,1,4,5,5,7,8,7,8,2,3,4,1]\n",
    "result={}\n",
    "for each in arr:\n",
    "    result.update({each:arr.count(each)})\n",
    "for (a,b) in result.items():\n",
    "    print(a,b)"
   ]
  },
  {
   "cell_type": "markdown",
   "metadata": {},
   "source": [
    "# Write a Python program to compute the similarity between two lists."
   ]
  },
  {
   "cell_type": "code",
   "execution_count": 27,
   "metadata": {},
   "outputs": [
    {
     "name": "stdout",
     "output_type": "stream",
     "text": [
      "['green', 'blue']\n"
     ]
    }
   ],
   "source": [
    "color1=[\"red\", \"orange\", \"green\", \"blue\", \"white\"]\n",
    "color2=[\"black\", \"yellow\", \"green\", \"blue\"]\n",
    "\n",
    "color3=[]\n",
    "\n",
    "for colour in color1:\n",
    "    if colour in color2:\n",
    "        if colour not in color3:\n",
    "            color3.append(colour)\n",
    "print(color3)"
   ]
  },
  {
   "cell_type": "markdown",
   "metadata": {},
   "source": [
    "# Python function that takes a list of words and returns the length of the longest one"
   ]
  },
  {
   "cell_type": "code",
   "execution_count": 33,
   "metadata": {},
   "outputs": [
    {
     "name": "stdout",
     "output_type": "stream",
     "text": [
      "36\n"
     ]
    }
   ],
   "source": [
    "l1=[\"please,follow,safety,and,precautions\"]\n",
    "l2=[]\n",
    "for str in l1:\n",
    "    l2.append(len(str))\n",
    "print(max(l2))"
   ]
  },
  {
   "cell_type": "markdown",
   "metadata": {},
   "source": [
    "# Python program to count the occurrences of each word in a given sentence"
   ]
  },
  {
   "cell_type": "code",
   "execution_count": 20,
   "metadata": {},
   "outputs": [
    {
     "name": "stdout",
     "output_type": "stream",
     "text": [
      "0\n"
     ]
    }
   ],
   "source": [
    "string = \"I am programmer. I am student.\"\n",
    "word = \"student\"\n",
    "\n",
    "words = string.split()\n",
    "count = 0\n",
    "\n",
    "for w in words:\n",
    "    if w == word:\n",
    "        count += 1\n",
    "\n",
    "print(count)"
   ]
  },
  {
   "cell_type": "markdown",
   "metadata": {},
   "source": [
    "# Python program to count and display the vowels of a given text"
   ]
  },
  {
   "cell_type": "code",
   "execution_count": 14,
   "metadata": {},
   "outputs": [
    {
     "name": "stdout",
     "output_type": "stream",
     "text": [
      "Given String: \n",
      " Letsupgrade is best\n",
      "The vlowels present in the string:\n",
      "  {'i', 'u', 'e', 'a'}\n"
     ]
    }
   ],
   "source": [
    "A = \"Letsupgrade is best\"\n",
    "print(\"Given String: \\n\",A)\n",
    "vowels = \"AaEeIiOoUu\"\n",
    "\n",
    "res = set([each for each in A if each in vowels])\n",
    "print(\"The vlowels present in the string:\\n \",res)"
   ]
  },
  {
   "cell_type": "markdown",
   "metadata": {},
   "source": [
    "# Python script to generate and print a dictionary that contains a number (between 1 and n)\n",
    "in the form (x, x*x)"
   ]
  },
  {
   "cell_type": "code",
   "execution_count": 2,
   "metadata": {},
   "outputs": [
    {
     "name": "stdout",
     "output_type": "stream",
     "text": [
      "input a number10\n",
      "{1: 1, 2: 4, 3: 9, 4: 16, 5: 25, 6: 36, 7: 49, 8: 64, 9: 81, 10: 100}\n"
     ]
    }
   ],
   "source": [
    "n=int(input(\"input a number\"))\n",
    "d=dict()\n",
    "\n",
    "for x in range(1,n+1):\n",
    "    d[x]=x*x\n",
    "    \n",
    "print(d)"
   ]
  },
  {
   "cell_type": "markdown",
   "metadata": {},
   "source": [
    "# Python program to combine two dictionary adding values for common keys"
   ]
  },
  {
   "cell_type": "code",
   "execution_count": 3,
   "metadata": {},
   "outputs": [
    {
     "name": "stdout",
     "output_type": "stream",
     "text": [
      "Counter({'a': 400, 'b': 400, 'd': 400, 'c': 300})\n"
     ]
    }
   ],
   "source": [
    " \n",
    "from collections import Counter \n",
    "  \n",
    " \n",
    "dict1 = {'a': 100, 'b': 200, 'c':300} \n",
    "dict2 = {'a': 300, 'b': 200, 'd':400} \n",
    "  \n",
    "          \n",
    "Cdict = Counter(dict1) + Counter(dict2) \n",
    "print(Cdict) "
   ]
  },
  {
   "cell_type": "markdown",
   "metadata": {},
   "source": [
    "# Python program to print all unique values in a dictionary"
   ]
  },
  {
   "cell_type": "code",
   "execution_count": 7,
   "metadata": {},
   "outputs": [
    {
     "name": "stdout",
     "output_type": "stream",
     "text": [
      "[{'V': 'S001'}, {'V': 'S002'}, {'VI': 'S001'}, {'VI': 'S005'}, {'VII': 'S005'}, {'V': 'S009'}, {'VIII': 'S007'}]\n"
     ]
    }
   ],
   "source": [
    "l1=[{\"V\":\"S001\"}, {\"V\": \"S002\"}, {\"VI\": \"S001\"}, {\"VI\": \"S005\"}, {\"VII\":\"S005\"},\n",
    "{\"V\":\"S009\"},{\"VIII\":\"S007\"}]\n",
    "unique_list=[]\n",
    "for a in l1:\n",
    "    if a not in unique_list:\n",
    "        unique_list.append(a)\n",
    "print(unique_list)"
   ]
  },
  {
   "cell_type": "code",
   "execution_count": null,
   "metadata": {},
   "outputs": [],
   "source": []
  }
 ],
 "metadata": {
  "kernelspec": {
   "display_name": "Python 3",
   "language": "python",
   "name": "python3"
  },
  "language_info": {
   "codemirror_mode": {
    "name": "ipython",
    "version": 3
   },
   "file_extension": ".py",
   "mimetype": "text/x-python",
   "name": "python",
   "nbconvert_exporter": "python",
   "pygments_lexer": "ipython3",
   "version": "3.7.6"
  }
 },
 "nbformat": 4,
 "nbformat_minor": 4
}
